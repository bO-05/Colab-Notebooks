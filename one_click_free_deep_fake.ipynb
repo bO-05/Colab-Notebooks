{
  "cells": [
    {
      "cell_type": "code",
      "execution_count": null,
      "metadata": {
        "cellView": "form",
        "colab": {
          "base_uri": "https://localhost:8080/"
        },
        "id": "5M_rkXknSIXw",
        "outputId": "4862ad8f-a701-4367-f2e9-b3c7e313fc6d"
      },
      "outputs": [],
      "source": [
        "#@title **Mount google drive**\n",
        "\n",
        "from google.colab import drive\n",
        "drive.mount('/content/drive', force_remount=True)"
      ]
    },
    {
      "cell_type": "code",
      "execution_count": null,
      "metadata": {
        "cellView": "form",
        "colab": {
          "base_uri": "https://localhost:8080/"
        },
        "id": "jlbXOFBbVxDW",
        "outputId": "7fa78db6-ba38-476a-d817-74a98c456f25"
      },
      "outputs": [],
      "source": [
        "#@title **Download video via google drive**\n",
        "\n",
        "from subprocess import Popen, PIPE, getoutput \n",
        "Popen([\"pip\",\"install\",\"pytube\"]).communicate()\n",
        "import os\n",
        "os.system(\"pip install pytube\")\n",
        "!apt-get install xattr > /dev/null\n",
        "from pytube import YouTube\n",
        "from google.colab import files\n",
        "import os\n",
        "\n",
        "DRIVE_FOLDER = \"MyDrive/Downloads\" #@param {type:\"string\"}\n",
        "folder = \"/content/drive/\" + DRIVE_FOLDER + \"/\"\n",
        "os.chdir(folder)\n",
        "\n",
        "#@markdown ---\n",
        "YT_URL = \"https://www.youtube.com/watch?v=RLuCBph9FkQ\" #@param {type:\"string\"}\n",
        "#@markdown ---\n",
        "File_Type = \"Video\" #@param [\"Audio\", \"Video\"]\n",
        "if(File_Type==\"Audio\"): \n",
        "  itag = 140 \n",
        "else: \n",
        "  itag = 18\n",
        "\n",
        "filename = \"\"\n",
        "\n",
        "if(YT_URL.startswith(\"https://\")):\n",
        "  yt = YouTube(YT_URL)\n",
        "  yt.streams.get_by_itag(itag).download()\n",
        "  filename= yt.streams.get_by_itag(itag).default_filename\n",
        "  os.rename(filename, filename.replace(\" \", \"-\"))\n",
        "  filename = filename.replace(\" \", \"-\")\n",
        "\n",
        "  if(File_Type=='Audio'):\n",
        "    os.rename(filename, filename[0:-3]+\"mp3\") \n",
        "    filename=filename[0:-3]+\"mp3\"\n",
        "  \n",
        "  while(1):\n",
        "    fid = getoutput(\"xattr -p\"+ \" 'user.drive.id' \"+\"'/content/drive/MyDrive/Downloads/\"+filename+\"'\" )\n",
        "    if (fid[0:5]==\"local\"):\n",
        "        continue\n",
        "    else:\n",
        "        print(\"\\n\"+filename+\":\\t\"+\"https://docs.google.com/uc?export/download&id=\"+fid)\n",
        "        break\n",
        "else:\n",
        "  print(\"Enter valid URL\")"
      ]
    },
    {
      "cell_type": "code",
      "execution_count": null,
      "metadata": {
        "cellView": "form",
        "colab": {
          "base_uri": "https://localhost:8080/"
        },
        "id": "VeOaSO2UPtuk",
        "outputId": "68e19ca6-96a8-4f81-f8bd-f84b93cbf6b1"
      },
      "outputs": [],
      "source": [
        "#@title **Trim the video based on start and end time**\n",
        "#@markdown check this if you want to use the previous downloaded video  \n",
        "use_previous_video = True  # @param {type: \"boolean\"}\n",
        "#@markdown ---\n",
        "#@markdown fill this `input_video` if you want to use another video   \n",
        "#@markdown    \n",
        "#@markdown write full path, don't forget the file extension  \n",
        "input_video = \"\" #@param {type:\"string\"} \n",
        "#@markdown ---\n",
        "start_time = \"00:01:08\" #@param {type:\"string\"}\n",
        "end_time = \"00:01:23\" #@param {type:\"string\"}\n",
        "#@markdown ---\n",
        "trimmed_video_name = filename + \"_trimmed.mp4\"\n",
        "trimmed_video_location = os.path.abspath(trimmed_video_name)  \n",
        "\n",
        "import subprocess\n",
        "\n",
        "if (use_previous_video):\n",
        "  input_video_location = os.path.abspath(filename)\n",
        "else:\n",
        "  input_video_location = input_video\n",
        "\n",
        "# Run the ffmpeg command using subprocess\n",
        "command = f'ffmpeg -i {input_video_location} -ss {start_time} -to {end_time} -c:v libx264 -c:a aac {trimmed_video_name} -y -hide_banner -loglevel error'\n",
        "result = subprocess.run(command, shell=True, stdout=subprocess.PIPE, stderr=subprocess.PIPE)\n",
        "\n",
        "# Check if the command was successful\n",
        "if result.returncode == 0:\n",
        "  print(\"\\n\"+\"Output trimmed video is saved at: \"+ trimmed_video_location)\n",
        "  while(1):\n",
        "    fid = getoutput(\"xattr -p\"+ \" 'user.drive.id' \"+\"'/content/drive/MyDrive/Downloads/\"+trimmed_video_name+\"'\" )\n",
        "    if (fid[0:5]==\"local\"):\n",
        "      continue\n",
        "    else:\n",
        "      print(\"\\n\"+trimmed_video_name+\":\\t\"+\"https://docs.google.com/uc?export/download&id=\"+fid)\n",
        "      break\n",
        "else:\n",
        "  print(\"Error occurred while trimming the video.\")\n",
        "  print(\"Error message: \" + result.stderr.decode('utf-8'))"
      ]
    },
    {
      "cell_type": "code",
      "execution_count": null,
      "metadata": {
        "colab": {
          "base_uri": "https://localhost:8080/"
        },
        "id": "t1yPuhdySqCq",
        "outputId": "b9e203b0-e7c7-490d-bdf9-f018711460ff"
      },
      "outputs": [],
      "source": [
        "#@title **Install packages and libs**\n",
        "\n",
        "os.chdir(\"/content/\")\n",
        "\n",
        "!git clone https://github.com/s0md3v/roop --quiet\n",
        "%cd roop\n",
        "\n",
        "# !git clone https://github.com/WellAdjustedChimp/roop_unlimited --quiet\n",
        "# %cd roop_unlimited\n",
        "\n",
        "!pip install -r requirements.txt --quiet\n",
        "\n",
        "#for gpu\n",
        "!pip uninstall onnxruntime --quiet\n",
        "!pip install onnxruntime-gpu --quiet\n",
        "\n",
        "#for cpu\n",
        "# !pip uninstall onnxruntime-gpu --quiet\n",
        "# !pip install onnxruntime --quiet\n",
        "\n",
        "!wget https://huggingface.co/MonsterMMORPG/SECourses/resolve/main/inswapper_128.onnx --quiet\n",
        "\n",
        "!apt-get install ffmpeg --quiet\n",
        "!apt-get update --quiet\n",
        "!apt-get upgrade --quiet"
      ]
    },
    {
      "cell_type": "code",
      "execution_count": null,
      "metadata": {
        "id": "dD6UoMr9wvhe"
      },
      "outputs": [],
      "source": [
        "#@title **Prepare the file (important!)**\n",
        "#@markdown `image_input_location` is full location path of input image\n",
        "#@markdown ---\n",
        "\n",
        "import os\n",
        "os.chdir(\"/content/roop\")\n",
        "# os.chdir(\"/content/roop_unlimited\")\n",
        "\n",
        "current_directory = \"/content/roop\"\n",
        "# current_directory = \"/content/roop_unlimited\"\n",
        "image_input_location = \"/content/drive/MyDrive/Downloads/BLB4.jpg\" #@param {type:\"string\"}\n",
        "image_name = os.path.basename(image_input_location)\n",
        "image_destination = os.path.join(current_directory, image_name)\n",
        "\n",
        "trimmed_video_destination = os.path.join(current_directory, trimmed_video_name)\n",
        "trimmed_video_name_without_extension, _ = os.path.splitext(trimmed_video_name)\n",
        "\n",
        "# if file not available, copy file from their directory to current folder (\"/content/roop\")\n",
        "if not os.path.exists(image_destination):\n",
        "    !cp {image_input_location} {image_destination}\n",
        "if not os.path.exists(trimmed_video_destination):\n",
        "    !cp {trimmed_video_location} {trimmed_video_destination}    \n",
        "\n",
        "# Apparently `run.py` does not work if the file name is too long,\n",
        "# so below is my way to rename file, and then replace the file name with the acronym\n",
        "# Replace '-' with spaces, and split the string into words\n",
        "list_words = trimmed_video_name.replace('-', ' ').split()\n",
        "# Create the acronym\n",
        "acronym = \"\".join([word[0].upper() for word in list_words])\n",
        "# Limit the acronym to 6 characters\n",
        "process_shortname = acronym[:6] + \".mp4\"\n",
        "os.rename(trimmed_video_name, process_shortname)\n",
        "\n",
        "process_shortname_without_extension, _ = os.path.splitext(process_shortname)\n",
        "deepfaked_video = process_shortname_without_extension + \"_df.mp4\"\n",
        "deepfaked_video_location = os.path.abspath(deepfaked_video)"
      ]
    },
    {
      "cell_type": "code",
      "execution_count": null,
      "metadata": {
        "id": "toTmoi68K_r0"
      },
      "outputs": [],
      "source": [
        "#@title **Run deepfake command option 1: via subprocess**\n",
        "\n",
        "os.chdir(\"/content/roop\")\n",
        "# os.chdir(\"/content/roop_unlimited\")\n",
        "\n",
        "import subprocess\n",
        "\n",
        "# Run the ffmpeg command using subprocess\n",
        "command = f'python run.py -f {image_name} -t {process_shortname} -o {deepfaked_video} --keep-fps --gpu --keep-frames'\n",
        "result = subprocess.run(command, shell=True, stdout=subprocess.PIPE, stderr=subprocess.PIPE)\n",
        "\n",
        "# Check if the command was successful\n",
        "if result.returncode == 0:\n",
        "  print(\"\\n\"+\"Output deepfake video is saved at: \"+ deepfaked_video_location)\n",
        "else:\n",
        "  print(\"Error occurred while processing the video.\")\n",
        "  print(\"Error message: \" + result.stderr.decode('utf-8'))"
      ]
    },
    {
      "cell_type": "code",
      "execution_count": null,
      "metadata": {
        "colab": {
          "base_uri": "https://localhost:8080/"
        },
        "id": "5FK13_0EvVts",
        "outputId": "d3d299f2-d790-4f48-8c25-5d2814a05ff3"
      },
      "outputs": [],
      "source": [
        "#@title **Run deepfake command option 2: directly**\n",
        "\n",
        "os.chdir(\"/content/roop\")\n",
        "# os.chdir(\"/content/roop_unlimited\")\n",
        "\n",
        "# using CPU\n",
        "# !python run.py -f {image_name} -t {process_shortname} -o {deepfaked_video} --keep-fps --keep-frames\n",
        "\n",
        "# using GPU\n",
        "!python run.py -f {image_name} -t {process_shortname} -o {deepfaked_video} --keep-fps --gpu --keep-frames"
      ]
    }
  ],
  "metadata": {
    "accelerator": "GPU",
    "colab": {
      "gpuType": "T4",
      "provenance": []
    },
    "kernelspec": {
      "display_name": "Python 3",
      "name": "python3"
    },
    "language_info": {
      "name": "python"
    }
  },
  "nbformat": 4,
  "nbformat_minor": 0
}
